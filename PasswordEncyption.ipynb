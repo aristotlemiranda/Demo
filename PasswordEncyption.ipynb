{
 "cells": [
  {
   "cell_type": "code",
   "execution_count": 53,
   "id": "ff7aa0a2",
   "metadata": {},
   "outputs": [
    {
     "name": "stdout",
     "output_type": "stream",
     "text": [
      "Encrypted data: b'T\\x92\\x85\\xb5\\x9bC|\\x1d\\xe8\\xeaw\\xcb`\\x81\\x9b.'\n"
     ]
    }
   ],
   "source": [
    "from cryptography.hazmat.primitives.ciphers import Cipher, algorithms, modes\n",
    "from cryptography.hazmat.primitives import padding\n",
    "from cryptography.hazmat.backends import default_backend\n",
    "\n",
    "# Encrypt data on the client side\n",
    "def encrypt_data(plaintext, key, iv):\n",
    "    backend = default_backend()\n",
    "    cipher = Cipher(algorithms.AES(key), modes.CBC(iv), backend=backend)\n",
    "    encryptor = cipher.encryptor()\n",
    "    padder = padding.PKCS7(algorithms.AES.block_size).padder()\n",
    "    padded_data = padder.update(plaintext) + padder.finalize()\n",
    "    ciphertext = encryptor.update(padded_data) + encryptor.finalize()\n",
    "    return ciphertext\n",
    "\n",
    "# Example usage\n",
    "plaintext = b'P@ssw0rd'\n",
    "key = b'\\x10' * 32  # Example key (32 bytes)\n",
    "iv = b'\\x00' * 16   # Example IV (16 bytes)\n",
    "encrypted_data = encrypt_data(plaintext, key, iv)\n",
    "print(\"Encrypted data:\", encrypted_data)"
   ]
  },
  {
   "cell_type": "code",
   "execution_count": 54,
   "id": "6f2d9c24",
   "metadata": {},
   "outputs": [
    {
     "name": "stdout",
     "output_type": "stream",
     "text": [
      "Decrypted data: P@ssw0rd\n"
     ]
    }
   ],
   "source": [
    "from cryptography.hazmat.primitives.ciphers import Cipher, algorithms, modes\n",
    "from cryptography.hazmat.primitives import padding\n",
    "from cryptography.hazmat.backends import default_backend\n",
    "\n",
    "# Decrypt data on the server side\n",
    "def decrypt_data(ciphertext, key, iv):\n",
    "    backend = default_backend()\n",
    "    cipher = Cipher(algorithms.AES(key), modes.CBC(iv), backend=backend)\n",
    "    decryptor = cipher.decryptor()\n",
    "    unpadder = padding.PKCS7(algorithms.AES.block_size).unpadder()\n",
    "    decrypted_data = decryptor.update(ciphertext) + decryptor.finalize()\n",
    "    plaintext = unpadder.update(decrypted_data) + unpadder.finalize()\n",
    "    return plaintext\n",
    "\n",
    "# Example usage\n",
    "key = b'\\x10' * 32  # Same key used for encryption\n",
    "iv = b'\\x00' * 16   # Same IV used for encryption\n",
    "data = b'T\\x92\\x85\\xb5\\x9bC|\\x1d\\xe8\\xeaw\\xcb`\\x81\\x9b.'\n",
    "decrypted_data = decrypt_data(data, key, iv)\n",
    "print(\"Decrypted data:\", decrypted_data.decode('utf-8'))"
   ]
  },
  {
   "cell_type": "code",
   "execution_count": 55,
   "id": "cd71deb7",
   "metadata": {},
   "outputs": [
    {
     "data": {
      "text/plain": [
       "'D:\\\\Applications\\\\Anaconda3\\\\envs\\\\tensorflow3'"
      ]
     },
     "execution_count": 55,
     "metadata": {},
     "output_type": "execute_result"
    }
   ],
   "source": [
    "import os\n",
    "import sys\n",
    "os.path.dirname(sys.executable)"
   ]
  },
  {
   "cell_type": "code",
   "execution_count": null,
   "id": "4fa23f6c",
   "metadata": {},
   "outputs": [],
   "source": []
  }
 ],
 "metadata": {
  "kernelspec": {
   "display_name": "Python 3.10 (tensorflow)",
   "language": "python",
   "name": "tensorflow3"
  },
  "language_info": {
   "codemirror_mode": {
    "name": "ipython",
    "version": 3
   },
   "file_extension": ".py",
   "mimetype": "text/x-python",
   "name": "python",
   "nbconvert_exporter": "python",
   "pygments_lexer": "ipython3",
   "version": "3.10.13"
  }
 },
 "nbformat": 4,
 "nbformat_minor": 5
}
